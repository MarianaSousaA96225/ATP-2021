{
 "cells": [
  {
   "cell_type": "code",
   "execution_count": 5,
   "metadata": {},
   "outputs": [],
   "source": [
    "def jogador1():\n",
    "    n = 21\n",
    "    while n > 1 :\n",
    "        jog = int(input(\"introduza o número de fósforos a retirar: \"))\n",
    "        if jog > 0 and jog <= 4 :\n",
    "            comp = 5 - jog\n",
    "            print (\"número de fósforos retirados pelo computador: \", comp)\n",
    "            n = n - 5\n",
    "            print (\"fósforos restantes: \", n)\n",
    "        else :\n",
    "            print (\"valor introduzido inválido\")\n",
    "    print (\"computador ganhou!\")"
   ]
  },
  {
   "cell_type": "code",
   "execution_count": 6,
   "metadata": {},
   "outputs": [],
   "source": [
    "import random\n",
    "def jogador2():\n",
    "    i = 0\n",
    "    n = 21\n",
    "    while n > 1 :\n",
    "        comp = random.randint(1,4)\n",
    "        print (\"número de fósforos retirados pelo computador: \", comp)\n",
    "        jog = int(input(\"introduza o número de fósforos a retirar: \"))\n",
    "        if jog > 0 and jog <= 4 :\n",
    "            if (jog + comp) % 5 == 0 :\n",
    "                n = n - 5\n",
    "                print (\"fósforos restantes: \", n)\n",
    "                i = i + 1\n",
    "            else :\n",
    "                n = n - (jog + comp)\n",
    "                print (\"fósforos restantes: \", n)\n",
    "                comp = 5 - ((jog + comp) % 5)\n",
    "                print (\"número de fósforos retirados pelo computador: \", comp)\n",
    "                n = n - comp\n",
    "                while n > 1 :\n",
    "                    jog = int(input(\"introduza o número de fósforos a retirar: \"))\n",
    "                    if jog > 0 and jog <= 4 :\n",
    "                        comp = 5 - jog\n",
    "                        print (\"número de fósforos retirados pelo computador: \", comp)\n",
    "                        n = n - 5\n",
    "                        print (\"fósforos restantes: \", n)\n",
    "                    else :\n",
    "                        print (\"valor introduzido inválido\")\n",
    "        else :\n",
    "            print (\"valor introduzido inválido\")\n",
    "    if i == 4 :\n",
    "        print (\"você ganhou!\")\n",
    "    else :\n",
    "        print (\"computador ganhou!\")"
   ]
  },
  {
   "cell_type": "code",
   "execution_count": 7,
   "metadata": {},
   "outputs": [],
   "source": [
    "def jogarfósforos():\n",
    "    jogador = int(input(\"introduza '1' ou '2' para jogar em primeiro ou segundo lugar, respetivamente: \"))\n",
    "    if jogador == 1 :\n",
    "        jogador1()\n",
    "    elif jogador == 2 :\n",
    "        jogador2()\n",
    "    else :\n",
    "        print (\"valor introduzido inválido\")"
   ]
  }
 ],
 "metadata": {
  "kernelspec": {
   "display_name": "Python 3",
   "language": "python",
   "name": "python3"
  }
 },
 "nbformat": 4,
 "nbformat_minor": 4
}
