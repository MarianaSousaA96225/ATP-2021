{
 "cells": [
  {
   "cell_type": "markdown",
   "metadata": {},
   "source": [
    "* Identificador: TPC2\n",
    "* Título: Jogo do Adivinha\n",
    "* Data Início: 2021-10-14\n",
    "* Data Fim: 2021-10-21\n",
    "* Supervisor: José Carlos Leite Ramalho, https://www.di.uminho.pt/~jcr/\n",
    "* Autor: Mariana Martins Sousa, A96225\n",
    "\n",
    "Este trabalho tem como objetivo o desenvolvimento de código, em linguagem _Python_ , cuja principal função é permitir jogar ao __Jogo do Adivinha__, no qual o computador irá adivinhar o número (de 0 a 100) em que o utilizador está a pensar num limite máximo de 7 tentativas.\n",
    "\n",
    "A elaboração do código está beaseada na ___pesquisa binária___, um algoritmo de busca que funciona dividindo repetidamente por metade a porção da lista que deve conter o item que procura, assumindo que se trata de uma lista ordenada.\n",
    "\n",
    "Criou-se o código do  __Jogo do Adivinha__ com recurso a uma variedade de __operações aritméticas__, nomeadamente a adição, a subtração e a divisão, em conjunto com __estruturas condicionais__ - _if elif else_ - e __cíclicas__, em particular, ciclos _while_."
   ]
  },
  {
   "cell_type": "code",
   "execution_count": 3,
   "metadata": {},
   "outputs": [],
   "source": [
    "def adivinha():\n",
    "    print (\"\"\" - Escolha um nº de 0 a 100 para o computador adivinhar num limite máximo de 7 tentativas.\n",
    "- Depois de cada tentativa do computador, indique se o computador acertou.\n",
    "- Caso não tenha acertado, indique de seguida se o seu nº é maior ou menor. \"\"\")\n",
    "    inf = 0\n",
    "    sup = 100\n",
    "    num = int(inf + ((sup - inf) / 2))\n",
    "    print (\"computador adivinhou: \", num)\n",
    "    tentativa = 1\n",
    "    while tentativa < 7 :\n",
    "        user = str(input(\"o computador acertou? \"))\n",
    "        if user == 'sim' :\n",
    "            tentativa = 7\n",
    "        elif user == 'não' :\n",
    "            user = str(input(\"o seu nº é maior ou menor? \"))\n",
    "            if user == 'maior' :\n",
    "                inf = num\n",
    "            elif user == 'menor' :\n",
    "                sup = num\n",
    "            else :\n",
    "                print (\"resposta introduzida não foi reconhecida!\")\n",
    "            num = int(inf + ((sup - inf) / 2))\n",
    "            print (\"computador adivinhou: \", num)\n",
    "            tentativa = tentativa + 1\n",
    "        else :\n",
    "            print (\"resposta introduzia não foi reconhecida!\")\n",
    "    print (\"obrigado por ter jogado!\")"
   ]
  }
 ],
 "metadata": {
  "kernelspec": {
   "display_name": "Python 3",
   "language": "python",
   "name": "python3"
  },
  "language_info": {
   "codemirror_mode": {
    "name": "ipython",
    "version": 3
   },
   "file_extension": ".py",
   "mimetype": "text/x-python",
   "name": "python",
   "nbconvert_exporter": "python",
   "pygments_lexer": "ipython3",
   "version": "3.8.3"
  }
 },
 "nbformat": 4,
 "nbformat_minor": 4
}
