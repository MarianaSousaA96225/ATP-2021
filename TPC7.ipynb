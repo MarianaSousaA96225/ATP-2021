{
 "cells": [
  {
   "cell_type": "markdown",
   "metadata": {},
   "source": [
    "# ATP 2021/22\n",
    "\n",
    "## TPC7 - Processamento de Datasets\n",
    "\n",
    "* Identificador: TPC7\n",
    "* Título: Processamento de Datasets\n",
    "* Data Início: 2021-11-25\n",
    "* Data Fim: 2021-12-02\n",
    "* Supervisor: José Carlos Leite Ramalho, https://www.di.uminho.pt/~jcr/ \n",
    "* Autor: Mariana Martins Sousa, A96225\n",
    "\n",
    "### Resumo:\n",
    "\n",
    "De modo a dar continuação ao material lecionado na aula Teórico-Prática 7, neste ficheiro, elaborado em linguagem _Python_ , encontra-se o código fonte com a resolução dos exercícios propostos na __Ficha Técnica__, sendo que permite __ler datasets, processá-los e produzir dados estatísticos__.\n",
    "\n",
    "Este programa processa a informação contida no ficheiro __alunos.csv__, começando pela __leitura__ da base de dados através da _função lerDataset()_ seguido pela __listagem__ da mesma (_função listarDataset()_ ), com o propósito de o utilizador visualizar toda a informação presente no ficheiro, dividindo-a nas respetivas colunas id, nome, curso, e média calculada dos tpcs 1,2,3 e 4 realizados.\n",
    "\n",
    "Este código também possibilita ao utilizador encontrar um dado aluno através do seu id registado, recorrendo à _função consultarDataset()_ e ainda selecionar os 10 alunos com as médias mais altas, devolvendo ao utilizador a sua informação, usando para tal a _função top10()_ .\n",
    "\n",
    "É possível ainda fazer a distribuição dos alunos pelo curso, _função distribPorCurso()_ , ou pelas médias dos tpcs, _função distribPorMedia()_ .\n",
    "\n",
    "Para a produção dos __gráficos em barra__ das __distribuições por curso e por média__ , recorre-se à biblioteca _matplotlib_ juntamente com as _funções plotDistribPorCurso() e plotDistribPorMedia()_ , respetivamente."
   ]
  },
  {
   "cell_type": "markdown",
   "metadata": {},
   "source": [
    "#### Exercício 1 - Leitura"
   ]
  },
  {
   "cell_type": "code",
   "execution_count": 31,
   "metadata": {},
   "outputs": [],
   "source": [
    "def lerDataset(fnome):\n",
    "    bd = []\n",
    "    f = open(fnome, encoding='utf-8')\n",
    "    f.readline()\n",
    "    \n",
    "    for linha in f :\n",
    "        novaLinha = linha.replace(\"\\n\", \"\")\n",
    "        campos = novaLinha.split(\",\")\n",
    "        \n",
    "        aluno = {}\n",
    "        aluno['id'] = campos[0]\n",
    "        aluno['nome'] = campos[1]\n",
    "        aluno['curso'] = campos[2]\n",
    "        listaTPC = []\n",
    "        for tpc in campos[3:] :\n",
    "            listaTPC.append(int(tpc))\n",
    "        aluno['tpc'] = listaTPC\n",
    "        \n",
    "        bd.append(aluno)\n",
    "    return bd\n",
    "\n",
    "BDalunos = lerDataset('alunos.csv')"
   ]
  },
  {
   "cell_type": "markdown",
   "metadata": {},
   "source": [
    "#### Exercício 2 - Listagem"
   ]
  },
  {
   "cell_type": "code",
   "execution_count": 12,
   "metadata": {},
   "outputs": [
    {
     "name": "stdout",
     "output_type": "stream",
     "text": [
      "id   | nome               | curso            | média TPC   \n",
      "-----------------------------------------------------------\n",
      "\"a1\" | \"Aysha Melanie Gilberto\" | \"LEI\" | 11\n",
      "\"a2\" | \"Igor André Cantanhede\" | \"ENGFIS\" | 16\n",
      "\"a3\" | \"Laurénio Narciso\" | \"ENGFIS\" | 12\n",
      "\"a4\" | \"Jasnoor Casegas\" | \"LCC\" | 15\n",
      "\"a5\" | \"Tawseef Rebouças\" | \"ENGBIOM\" | 14\n",
      "\"a6\" | \"Eryk Clementino\" | \"LEI\" | 13\n",
      "\"a7\" | \"Ianna Noivo\" | \"ENGBIOM\" | 15\n",
      "\"a8\" | \"Ayla Thaissa Reina\" | \"ENGBIOM\" | 11\n",
      "\"a9\" | \"Cássia Viviane Coitã\" | \"ENGFIS\" | 13\n",
      "\"a10\" | \"Koby Vindima\" | \"LEI\" | 14\n",
      "\"a11\" | \"Gustavo Martim Hernandez\" | \"ENGBIOM\" | 11\n",
      "\"a12\" | \"Siddarta Beiriz\" | \"LEI\" | 14\n",
      "\"a13\" | \"Daniela Patrícia Montes\" | \"ENGBIOM\" | 16\n",
      "\"a14\" | \"Kaylla Pessego\" | \"LCC\" | 14\n",
      "\"a15\" | \"Bianca Cristina Primitivo\" | \"ENGBIOM\" | 13\n",
      "\"a16\" | \"Magna Galhardo\" | \"ENGFIS\" | 15\n",
      "\"a17\" | \"Grace Isabel Patriarca\" | \"LCC\" | 12\n",
      "\"a18\" | \"Saubhagya Buco\" | \"LEI\" | 15\n",
      "\"a19\" | \"Ivo Vicente Boisa\" | \"ENGBIOM\" | 13\n",
      "\"a20\" | \"Vivaan Castilhos\" | \"ENGFIS\" | 13\n",
      "\"a21\" | \"Layana Camejo\" | \"ENGFIS\" | 14\n",
      "\"a22\" | \"Mahdi Menoita\" | \"ENGFIS\" | 12\n",
      "\"a23\" | \"Yifan Cortinado\" | \"LEI\" | 15\n",
      "\"a24\" | \"Éder Sodré\" | \"ENGFIS\" | 14\n",
      "\"a25\" | \"Dhriti Magano\" | \"ENGFIS\" | 14\n",
      "\"a26\" | \"Steve Devesa\" | \"ENGBIOM\" | 11\n",
      "\"a27\" | \"Lisandro Mariano Picassinos\" | \"ENGFIS\" | 12\n",
      "\"a28\" | \"Itiel Quinoy\" | \"LEI\" | 13\n",
      "\"a29\" | \"Pranika Reimoo\" | \"LEI\" | 14\n",
      "\"a30\" | \"Manaia Viseu\" | \"ENGFIS\" | 12\n",
      "\"a31\" | \"Eva Manuel Caio\" | \"ENGFIS\" | 16\n",
      "\"a32\" | \"Ariane Sofia Foja\" | \"LEI\" | 17\n",
      "\"a33\" | \"Jaime António Pauseiro\" | \"LCC\" | 12\n",
      "\"a34\" | \"Tanisha Marzagoo\" | \"ENGBIOM\" | 15\n",
      "\"a35\" | \"Siyon Anca\" | \"LEI\" | 13\n",
      "\"a36\" | \"Diana Beatriz Boavista\" | \"LCC\" | 16\n",
      "\"a37\" | \"Elisiário Saberio\" | \"ENGFIS\" | 16\n",
      "\"a38\" | \"Maira Brites\" | \"ENGFIS\" | 15\n",
      "\"a39\" | \"Victória Gabriela Incenso\" | \"LEI\" | 13\n",
      "\"a40\" | \"Najua Serôdio\" | \"LCC\" | 15\n",
      "\"a41\" | \"Lachezar Rosas\" | \"ENGBIOM\" | 16\n",
      "\"a42\" | \"Kattleya Trigueiro\" | \"ENGFIS\" | 16\n",
      "\"a43\" | \"Tatiana Guiomar Maricoto\" | \"LCC\" | 13\n",
      "\"a44\" | \"Mélanie Daniela Bugalhão\" | \"LCC\" | 15\n",
      "\"a45\" | \"Imayame Hespanha\" | \"ENGFIS\" | 16\n",
      "\"a46\" | \"Yuri Gabriel Baganha\" | \"LCC\" | 15\n",
      "\"a47\" | \"Moisés João Cornelio\" | \"LEI\" | 18\n",
      "\"a48\" | \"Nazir Assif Trinta\" | \"LEI\" | 12\n",
      "\"a49\" | \"Karamjot Arezes\" | \"LEI\" | 12\n",
      "\"a50\" | \"Rishit Justa\" | \"ENGBIOM\" | 9\n",
      "\"a51\" | \"Iara de Jesus Gonçalo\" | \"ENGFIS\" | 12\n",
      "\"a52\" | \"Stepfan Owusu Lercas\" | \"LEI\" | 14\n",
      "\"a53\" | \"Abner Umbelina\" | \"ENGBIOM\" | 14\n",
      "\"a54\" | \"Dânia Lucy Montelobo\" | \"LEI\" | 15\n",
      "\"a55\" | \"Myla Lopez\" | \"ENGFIS\" | 14\n",
      "\"a56\" | \"Hakeem Brazão\" | \"LEI\" | 17\n",
      "\"a57\" | \"Quinn Aveiro\" | \"ENGBIOM\" | 13\n",
      "\"a58\" | \"Etienne Constentino\" | \"ENGBIOM\" | 11\n",
      "\"a59\" | \"Emanuel Marcos Delfina\" | \"LEI\" | 11\n",
      "\"a60\" | \"Mariana Catarina Ramalheira\" | \"ENGBIOM\" | 16\n",
      "\"a61\" | \"Bradley Tabau\" | \"LCC\" | 15\n",
      "\"a62\" | \"Ahmadou Bamba Calcinha\" | \"LCC\" | 14\n",
      "\"a63\" | \"Francisco Pedro Derresa\" | \"ENGFIS\" | 14\n",
      "\"a64\" | \"Gil Miguel Lima\" | \"ENGBIOM\" | 14\n",
      "\"a65\" | \"Leonor Pedro Carqueijeiro\" | \"ENGBIOM\" | 13\n",
      "\"a66\" | \"Genrikh Maximovich Vila-Chã\" | \"ENGFIS\" | 12\n",
      "\"a67\" | \"Mayra Larissa Rolo\" | \"LCC\" | 14\n",
      "\"a68\" | \"Leandro David Dunhoo\" | \"ENGBIOM\" | 13\n",
      "\"a69\" | \"Adele Belchior\" | \"ENGBIOM\" | 15\n",
      "\"a70\" | \"Frantceska Borreca\" | \"ENGFIS\" | 14\n",
      "\"a71\" | \"Derrick Urias\" | \"ENGFIS\" | 10\n",
      "\"a72\" | \"Ana Gabriel Quirino\" | \"LCC\" | 13\n",
      "\"a73\" | \"Carolina Antoo\" | \"ENGBIOM\" | 16\n",
      "\"a74\" | \"Vânia Sofia Porfirio\" | \"ENGBIOM\" | 17\n",
      "\"a75\" | \"Dárcio Wosvaldo Tudela\" | \"LEI\" | 13\n",
      "\"a76\" | \"Zhara Couxão\" | \"ENGFIS\" | 13\n",
      "\"a77\" | \"Tomé Ferrito\" | \"LCC\" | 14\n",
      "\"a78\" | \"Iasmin Paloma Chaveiro\" | \"LCC\" | 12\n",
      "\"a79\" | \"Sadagi Cruto\" | \"ENGBIOM\" | 15\n",
      "\"a80\" | \"Maria Carolina Josué\" | \"ENGFIS\" | 18\n",
      "\"a81\" | \"Quaresma Lancastre\" | \"ENGBIOM\" | 15\n",
      "\"a82\" | \"Evaldir Gervasio\" | \"ENGFIS\" | 14\n",
      "\"a83\" | \"Dolorinda Adolfo\" | \"ENGFIS\" | 13\n",
      "\"a84\" | \"Laudário Frasão\" | \"LCC\" | 17\n",
      "\"a85\" | \"Rómula Jeronimo\" | \"ENGFIS\" | 11\n",
      "\"a86\" | \"Clésio Rodeiro\" | \"LCC\" | 13\n",
      "\"a87\" | \"Feliciano José Avis\" | \"ENGFIS\" | 9\n",
      "\"a88\" | \"Afonso Adriano Marca\" | \"ENGBIOM\" | 12\n",
      "\"a89\" | \"Victória Miguel Rosete\" | \"ENGFIS\" | 13\n",
      "\"a90\" | \"Tome Teroso\" | \"ENGFIS\" | 11\n",
      "\"a91\" | \"Constança Filipa Melado\" | \"LEI\" | 12\n",
      "\"a92\" | \"Madalena Jesus Alfaiate\" | \"LEI\" | 14\n",
      "\"a93\" | \"Bivhan Reimbau\" | \"LCC\" | 12\n",
      "\"a94\" | \"Viviana Sofia Gaspar\" | \"ENGBIOM\" | 16\n",
      "\"a95\" | \"Íris Soraia Chiote\" | \"LEI\" | 13\n",
      "\"a96\" | \"Anaïs Sintra\" | \"LCC\" | 14\n",
      "\"a97\" | \"Salvador Banaca\" | \"LCC\" | 13\n",
      "\"a98\" | \"Guilherme Matias Almeirão\" | \"ENGFIS\" | 11\n",
      "\"a99\" | \"Xavier Luís Bulha\" | \"ENGFIS\" | 12\n",
      "\"a100\" | \"Tude Searas\" | \"LEI\" | 14\n"
     ]
    }
   ],
   "source": [
    "def listarDataset(bd):\n",
    "    print(\"id   | nome               | curso            | média TPC   \")\n",
    "    print(\"-----------------------------------------------------------\")\n",
    "    for aluno in bd :\n",
    "        print (aluno['id'] + \" | \" + aluno['nome'] + \" | \" + aluno['curso'] + \" | \" + str(int((sum(aluno['tpc']))/len(aluno['tpc']))))\n",
    "        \n",
    "listarDataset(BDalunos)"
   ]
  },
  {
   "cell_type": "markdown",
   "metadata": {},
   "source": [
    "#### Exercício 3 - Consulta de Registo"
   ]
  },
  {
   "cell_type": "code",
   "execution_count": 30,
   "metadata": {},
   "outputs": [
    {
     "name": "stdout",
     "output_type": "stream",
     "text": [
      "\"a46\" | \"Yuri Gabriel Baganha\" | \"LCC\" | 15\n"
     ]
    }
   ],
   "source": [
    "def consultarDataset(bd, alunoId) :\n",
    "    listaId = []\n",
    "    for aluno in bd :\n",
    "        listaId.append(aluno['id'])\n",
    "    \n",
    "    contador = 0\n",
    "    for a in listaId :\n",
    "        if a == alunoId :\n",
    "            med = int((sum(bd[contador]['tpc']))/len(bd[contador]['tpc']))\n",
    "            print(bd[contador]['id'] + \" | \" + bd[contador]['nome'] + \" | \" + bd[contador]['curso'] + \" | \" + str(med))\n",
    "        else :\n",
    "            contador = contador + 1\n",
    "            \n",
    "consultarDataset(BDalunos, '\"a46\"')"
   ]
  },
  {
   "cell_type": "markdown",
   "metadata": {},
   "source": [
    "#### Exercício 4 - Top 10"
   ]
  },
  {
   "cell_type": "code",
   "execution_count": 24,
   "metadata": {},
   "outputs": [
    {
     "name": "stdout",
     "output_type": "stream",
     "text": [
      "\"a47\" | \"Moisés João Cornelio\" | \"LEI\" | 18\n",
      "\"a80\" | \"Maria Carolina Josué\" | \"ENGFIS\" | 18\n",
      "\"a32\" | \"Ariane Sofia Foja\" | \"LEI\" | 17\n",
      "\"a56\" | \"Hakeem Brazão\" | \"LEI\" | 17\n",
      "\"a74\" | \"Vânia Sofia Porfirio\" | \"ENGBIOM\" | 17\n",
      "\"a84\" | \"Laudário Frasão\" | \"LCC\" | 17\n",
      "\"a2\" | \"Igor André Cantanhede\" | \"ENGFIS\" | 16\n",
      "\"a13\" | \"Daniela Patrícia Montes\" | \"ENGBIOM\" | 16\n",
      "\"a31\" | \"Eva Manuel Caio\" | \"ENGFIS\" | 16\n",
      "\"a36\" | \"Diana Beatriz Boavista\" | \"LCC\" | 16\n"
     ]
    }
   ],
   "source": [
    "def ordenar(lista) :\n",
    "    trocas = False\n",
    "    for i in range(len(lista)) :\n",
    "        if i < (len(lista) - 1) :\n",
    "            if lista[i][1] < lista[i+1][1] :\n",
    "                lista[i], lista[i+1] = lista[i+1], lista[i]\n",
    "                trocas = True\n",
    "    if trocas == True :\n",
    "        (ordenar(lista))\n",
    "    return lista\n",
    "\n",
    "def top10(bd):\n",
    "    listaMed = []\n",
    "    a = 0\n",
    "    for aluno in bd :\n",
    "        listaMed.append((a, int((sum(aluno['tpc']))/len(aluno['tpc']))))\n",
    "        a = a + 1\n",
    "    listaMed = ordenar(listaMed)\n",
    "    for i in range(0, 10) :\n",
    "        aluno = listaMed[i][0]\n",
    "        print(bd[aluno]['id'] + \" | \" + bd[aluno]['nome'] + \" | \" + bd[aluno]['curso'] + \" | \" + str(listaMed[i][1]))\n",
    "        \n",
    "top10(BDalunos)"
   ]
  },
  {
   "cell_type": "markdown",
   "metadata": {},
   "source": [
    "#### Exercício 5 - Distribuição por Curso"
   ]
  },
  {
   "cell_type": "code",
   "execution_count": 15,
   "metadata": {},
   "outputs": [
    {
     "name": "stdout",
     "output_type": "stream",
     "text": [
      "{'\"LEI\"': 23, '\"ENGFIS\"': 32, '\"LCC\"': 20, '\"ENGBIOM\"': 25}\n"
     ]
    }
   ],
   "source": [
    "def distribPorCurso(bd):\n",
    "    distribCurso = {}\n",
    "    for aluno in bd :\n",
    "        if aluno['curso'] in distribCurso.keys() :\n",
    "            distribCurso[aluno['curso']] = distribCurso[aluno['curso']] + 1\n",
    "        else :\n",
    "            distribCurso[aluno['curso']] = 1\n",
    "    return distribCurso\n",
    "\n",
    "print(distribPorCurso(BDalunos))"
   ]
  },
  {
   "cell_type": "markdown",
   "metadata": {},
   "source": [
    "#### Exercício 6 - Distribuição por Médias"
   ]
  },
  {
   "cell_type": "code",
   "execution_count": 16,
   "metadata": {},
   "outputs": [
    {
     "name": "stdout",
     "output_type": "stream",
     "text": [
      "{11: 9, 16: 11, 12: 15, 15: 15, 14: 21, 13: 20, 17: 4, 18: 2, 9: 2, 10: 1}\n"
     ]
    }
   ],
   "source": [
    "def distribPorMedia(bd):\n",
    "    distribMedia = {}\n",
    "    for aluno in bd :\n",
    "        aluno['media'] = int((sum(aluno['tpc']))/len(aluno['tpc']))\n",
    "        if aluno['media'] in distribMedia.keys() :\n",
    "            distribMedia[aluno['media']] = distribMedia[aluno['media']] + 1\n",
    "        else :\n",
    "            distribMedia[aluno['media']] = 1\n",
    "    return distribMedia\n",
    "\n",
    "print(distribPorMedia(BDalunos))"
   ]
  },
  {
   "cell_type": "markdown",
   "metadata": {},
   "source": [
    "#### Exercício 7 - Gráfico da Distribuição por Curso"
   ]
  },
  {
   "cell_type": "code",
   "execution_count": 17,
   "metadata": {},
   "outputs": [],
   "source": [
    "import matplotlib.pyplot as plt"
   ]
  },
  {
   "cell_type": "code",
   "execution_count": 18,
   "metadata": {},
   "outputs": [
    {
     "data": {
      "image/png": "[encoded data removed]",
      "text/plain": [
       "<Figure size 432x288 with 1 Axes>"
      ]
     },
     "metadata": {
      "needs_background": "light"
     },
     "output_type": "display_data"
    }
   ],
   "source": [
    "def plotDistribPorCurso(bd):\n",
    "    BD = distribPorCurso(bd)\n",
    "    listaCursos = []\n",
    "    for aluno in bd :\n",
    "        if aluno['curso'] not in listaCursos :\n",
    "            listaCursos.append(aluno['curso'])\n",
    "    \n",
    "    x = [n for n in range(len(listaCursos))]\n",
    "    plt.xlabel('Curso')\n",
    "    \n",
    "    y = []\n",
    "    for n in x :\n",
    "        curso = listaCursos[n]\n",
    "        y.append(BD[curso])\n",
    "    plt.ylabel('Número de Alunos')\n",
    "    \n",
    "    plt.bar(x, y, tick_label=listaCursos, width=0.8, color=['red', 'blue'])\n",
    "    plt.title('Distribuição por Cursos')\n",
    "    \n",
    "plotDistribPorCurso(BDalunos)"
   ]
  },
  {
   "cell_type": "markdown",
   "metadata": {},
   "source": [
    "#### Exercício 8 - Gráfico da Distribuição por Médias"
   ]
  },
  {
   "cell_type": "code",
   "execution_count": 19,
   "metadata": {},
   "outputs": [
    {
     "data": {
      "image/png": "[encoded data removed]",
      "text/plain": [
       "<Figure size 432x288 with 1 Axes>"
      ]
     },
     "metadata": {
      "needs_background": "light"
     },
     "output_type": "display_data"
    }
   ],
   "source": [
    "def plotDistribPorMedia(bd):\n",
    "    BD = distribPorMedia(bd)\n",
    "    listaMedias = []\n",
    "    for aluno in bd :\n",
    "        med = int((sum(aluno['tpc']))/len(aluno['tpc']))\n",
    "        if med not in listaMedias :\n",
    "            listaMedias.append(med)\n",
    "            \n",
    "    x = [n for n in range(len(listaMedias))]\n",
    "    plt.xlabel('Média')\n",
    "    \n",
    "    y = []\n",
    "    for n in x :\n",
    "        media = listaMedias[n]\n",
    "        y.append(BD[media])\n",
    "    plt.ylabel('Número de Alunos')\n",
    "    \n",
    "    plt.bar(x, y, tick_label=listaMedias, width=0.8, color=['red', 'blue'])\n",
    "    plt.title('Distribuição por Média')\n",
    "    \n",
    "plotDistribPorMedia(BDalunos)"
   ]
  }
 ],
 "metadata": {
  "kernelspec": {
   "display_name": "Python 3",
   "language": "python",
   "name": "python3"
  },
  "language_info": {
   "codemirror_mode": {
    "name": "ipython",
    "version": 3
   },
   "file_extension": ".py",
   "mimetype": "text/x-python",
   "name": "python",
   "nbconvert_exporter": "python",
   "pygments_lexer": "ipython3",
   "version": "3.8.3"
  }
 },
 "nbformat": 4,
 "nbformat_minor": 4
}
