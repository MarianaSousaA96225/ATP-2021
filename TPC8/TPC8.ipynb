{
 "cells": [
  {
   "cell_type": "markdown",
   "metadata": {},
   "source": [
    "# ATP 2021/22\n",
    "\n",
    "## TPC8 - Processamento de Datasets \n",
    "\n",
    "* Identificador: TPC8\n",
    "* Título: Processamento de Datasets\n",
    "* Data Início: 2021-12-02\n",
    "* Data Fim: 2021-12-09\n",
    "* Supervisor: José Carlos Leite Ramalho, https://www.di.uminho.pt/~jcr/ \n",
    "* Autor: Mariana Martins Sousa, A96225\n",
    "\n",
    "### Resumo:\n",
    "\n",
    "De modo a dar continuação ao material lecionado na aula Teórico-Prática 8, neste ficheiro, elaborado em linguagem _Python_ , encontra-se o código fonte com a resolução dos exercícios propostos na __Ficha Técnica__, sendo que permite __ler datasets, processá-los e produzir dados estatísticos__.\n",
    "\n",
    "Este programa processa a informação contida no ficheiro __emd.csv__, que também se encontra disponível, começando pela __leitura__ da base de dados através da _função lerDataset()_ seguido pela __listagem__ da mesma (_função listarDataset()_ ), com o propósito de o utilizador visualizar toda a informação presente no ficheiro, dividindo-a nas respetivas colunas id, data, nome, idade, gênero, modalidade, clube, email e resultado.\n",
    "\n",
    "Este código também possibilita ao utilizador encontrar um dado exame médico desportivo através do seu id registado, recorrendo à _função consultarDataset()_ . É possível ainda fazer a distribuição dos EMDs por qualquer parâmetro, _função distrib()_ , tal como pela modalidade, _função distribPorModalidade()_ , pelo clube, _função distribPorClube()_ , ou pelo ano, _função distribPorAno()_ .\n",
    "\n",
    "Para a produção dos __gráficos em barra__ das __distribuições__ , recorre-se à biblioteca _matplotlib_ juntamente com as _funções plotDistribPorModalidade() e plotDistrib()_ para uma distribuição por modalidades e por dado index, respetivamente.\n",
    "\n",
    "Adicionalmente, para um mais dinâmico processamento do dataset através deste código, foi gerada uma __interface GUI__, usando para tal o _PySimpleGUI_ ."
   ]
  },
  {
   "cell_type": "markdown",
   "metadata": {},
   "source": [
    "#### Exercício 1 - Leitura"
   ]
  },
  {
   "cell_type": "code",
   "execution_count": 1,
   "metadata": {},
   "outputs": [],
   "source": [
    "def convBool(v):\n",
    "    return v == 'true'\n",
    "\n",
    "def lerDataset(fnome):\n",
    "    f = open(fnome, encoding=\"utf-8\")\n",
    "    bd = []\n",
    "    \n",
    "    f.readline()\n",
    "    for linha in f :\n",
    "        novaLinha = linha.strip(\"\\n\")\n",
    "        campos = novaLinha.split(\",\")\n",
    "        \n",
    "        emd = []\n",
    "        emd.append(\"emd\" + str(campos[1])) # criar novo id\n",
    "        emd.append(campos[2])\n",
    "        emd.append(campos[4] + \" \" + campos[3]) # primeiro nome + último nome\n",
    "        emd = emd + campos[5:]\n",
    "        emd[-2] = convBool(emd[-2])\n",
    "        emd[-1] = convBool(emd[-1])\n",
    "        \n",
    "        bd.append(emd)\n",
    "    return bd\n",
    "\n",
    "BD = lerDataset(\"emd.csv\")"
   ]
  },
  {
   "cell_type": "markdown",
   "metadata": {},
   "source": [
    "#### Exercício 2 - Listagem"
   ]
  },
  {
   "cell_type": "code",
   "execution_count": 2,
   "metadata": {},
   "outputs": [
    {
     "name": "stdout",
     "output_type": "stream",
     "text": [
      "id  |  data  |  nome  |  idade  |  gênero  |  modalidade  |  clube  |  email  |  resultado\n",
      "------------------------------------------------------------------------------------------\n",
      "emd0 | 2020-02-25 | Gay Delgado | 28 | F | Gloucester | BTT | ACRroriz | Apto\n",
      "emd1 | 2019-07-31 | Prince Foreman | 34 | M | Forestburg | Ciclismo | ACDRcrespos | Apto\n",
      "emd2 | 2021-01-06 | Berger Cheryl | 21 | M | Umapine | Basquetebol | Vitoria | Apto\n",
      "emd3 | 2020-11-19 | Goff Graves | 29 | F | Babb | Andebol | AVCfamalicão | Não Apto\n",
      "emd4 | 2019-09-01 | Bolton Mckay | 29 | F | Chilton | Futebol | ACDRcrespos | Não Apto\n",
      "emd5 | 2019-10-07 | Kelley Marla | 22 | M | Clarence | Atletismo | AmigosMontanha | Não Apto\n",
      "emd6 | 2020-12-11 | Maddox Merrill | 34 | M | Roderfield | Equitação | ACRroriz | Apto\n",
      "emd7 | 2019-03-12 | Calderon Nikki | 22 | F | Brethren | Patinagem | EDViana | Não Apto\n",
      "emd8 | 2020-12-09 | Bright Lucia | 35 | F | Onton | Orientação | GDGoma | Não Apto\n",
      "emd9 | 2020-01-26 | Wells Faith | 31 | F | Grantville | Basquetebol | EDViana | Apto\n",
      "emd10 | 2019-03-29 | Osborn Milagros | 22 | M | Dunlo | Patinagem | GDGoma | Não Apto\n",
      "emd11 | 2019-09-08 | Sellers Valentine | 27 | F | Odessa | Patinagem | EDViana | Apto\n",
      "emd12 | 2019-05-10 | Hyde Martha | 26 | M | Dupuyer | Triatlo | Vitoria | Não Apto\n",
      "emd13 | 2019-04-22 | Stevenson Beck | 35 | F | Barclay | Dança | SCBraga | Não Apto\n",
      "emd14 | 2019-05-05 | Strong Lester | 21 | M | Freetown | Patinagem | GDGoma | Não Apto\n",
      "emd15 | 2020-03-19 | Bradley Sharon | 30 | M | Hiseville | Futebol | AVCfamalicão | Não Apto\n",
      "emd16 | 2019-07-30 | Dale Waters | 32 | M | Bakersville | Andebol | ABCbraga | Não Apto\n",
      "emd17 | 2019-07-27 | Mayer Rebekah | 32 | F | Woodlake | Atletismo | ABCbraga | Não Apto\n",
      "emd18 | 2020-04-19 | Howell Isabella | 28 | M | Hanover | Basquetebol | AVCfamalicão | Não Apto\n",
      "emd19 | 2019-12-28 | Barnes Lela | 31 | F | Sultana | Karaté | EDViana | Apto\n",
      "emd20 | 2020-09-22 | Hunter Eunice | 33 | F | Orick | Basquetebol | ACDRcrespos | Apto\n",
      "emd21 | 2020-09-26 | Romero Samantha | 28 | F | Gadsden | BTT | Vitoria | Apto\n",
      "emd22 | 2019-02-27 | Mcbride Langley | 29 | F | Spelter | Equitação | AVCfamalicão | Não Apto\n",
      "emd23 | 2021-02-25 | Weber Castro | 31 | M | Greenfields | Basquetebol | EDViana | Não Apto\n",
      "emd24 | 2019-09-29 | Kane Logan | 26 | M | Vale | Basquetebol | AVCfamalicão | Apto\n",
      "emd25 | 2020-01-27 | Robles Ina | 34 | F | Succasunna | Ciclismo | AmigosMontanha | Não Apto\n",
      "emd26 | 2019-03-14 | Hays Laverne | 31 | F | Coinjock | Badminton | ACRroriz | Não Apto\n",
      "emd27 | 2019-01-28 | Estes Haley | 21 | F | Basye | Futebol | AmigosMontanha | Apto\n",
      "emd28 | 2019-02-12 | Meyers Munoz | 32 | F | Jackpot | BTT | GDGoma | Apto\n",
      "emd29 | 2020-02-05 | Herman Vaughan | 29 | M | Orason | Triatlo | Vitoria | Apto\n",
      "emd30 | 2021-01-18 | Mcneil Freida | 32 | M | Duryea | Patinagem | SCBraga | Não Apto\n",
      "emd31 | 2019-11-09 | Rosales Emilia | 32 | F | Tivoli | Dança | ACRroriz | Não Apto\n",
      "emd32 | 2020-11-03 | Powell Julianne | 29 | F | Alleghenyville | Andebol | ACRroriz | Não Apto\n",
      "emd33 | 2020-05-03 | Riddle Aisha | 33 | M | Holtville | Triatlo | EDViana | Apto\n",
      "emd34 | 2019-01-13 | Bernard Elisa | 26 | F | Alfarata | Futebol | EDViana | Apto\n",
      "emd35 | 2019-05-01 | Diaz Freeman | 24 | F | Brutus | Esgrima | ABCbraga | Não Apto\n",
      "emd36 | 2019-10-22 | Mayo Dawson | 25 | M | Roland | Parapente | ACDRcrespos | Não Apto\n",
      "emd37 | 2019-05-30 | Kennedy Castaneda | 23 | F | Sparkill | Equitação | Vitoria | Apto\n",
      "emd38 | 2020-02-28 | Estrada Elma | 32 | F | Tetherow | Andebol | EDViana | Apto\n",
      "emd39 | 2020-06-29 | Powers Miranda | 29 | M | Soham | BTT | ACDRcrespos | Não Apto\n",
      "emd40 | 2019-03-23 | Michael Rosalind | 21 | F | Cloverdale | Dança | ACDRcrespos | Apto\n",
      "emd41 | 2020-11-13 | Mejia Hardin | 35 | M | Inkerman | Futebol | Vitoria | Apto\n",
      "emd42 | 2019-09-15 | Pope Vivian | 32 | M | Bayview | Parapente | ACRroriz | Apto\n",
      "emd43 | 2019-11-02 | George Vang | 35 | F | Rivers | Atletismo | AVCfamalicão | Apto\n",
      "emd44 | 2020-02-09 | Barron Leanne | 24 | F | Boling | Badminton | ABCbraga | Apto\n",
      "emd45 | 2020-01-26 | Cantrell Jeanie | 23 | F | Nord | Ciclismo | EDViana | Apto\n",
      "emd46 | 2020-05-31 | Robertson Lott | 27 | F | Hannasville | BTT | SCBraga | Não Apto\n",
      "emd47 | 2019-07-15 | Lawrence Tami | 33 | M | Crumpler | Andebol | AVCfamalicão | Apto\n",
      "emd48 | 2019-09-24 | Guerrero Myrna | 21 | F | Bentonville | Atletismo | Vitoria | Apto\n",
      "emd49 | 2019-05-27 | Collier Mari | 22 | F | Magnolia | Basquetebol | EDViana | Não Apto\n",
      "emd50 | 2019-02-04 | Ford Lisa | 23 | M | Topanga | Equitação | AmigosMontanha | Apto\n",
      "emd51 | 2020-07-03 | Yates Brigitte | 22 | F | Crucible | Karaté | AVCfamalicão | Apto\n",
      "emd52 | 2020-12-17 | Ward Lora | 29 | M | Chelsea | BTT | Vitoria | Apto\n",
      "emd53 | 2020-01-21 | Walsh Robbins | 30 | F | Holcombe | BTT | Vitoria | Apto\n",
      "emd54 | 2020-02-25 | Brock Kristina | 22 | F | Carbonville | Esgrima | EDViana | Não Apto\n",
      "emd55 | 2020-12-28 | Preston Kathie | 23 | F | Snyderville | Triatlo | AmigosMontanha | Não Apto\n",
      "emd56 | 2020-09-04 | Solis Hollie | 21 | M | Edgewater | Futebol | Vitoria | Não Apto\n",
      "emd57 | 2020-12-31 | Kaufman Maritza | 29 | M | Hall | Karaté | ACRroriz | Apto\n",
      "emd58 | 2019-10-25 | Carney Graciela | 28 | M | Ilchester | Basquetebol | AmigosMontanha | Não Apto\n",
      "emd59 | 2019-03-12 | Higgins Deirdre | 31 | M | Clayville | Ciclismo | SCBraga | Apto\n",
      "emd60 | 2020-03-09 | Tucker Wilson | 27 | M | Rutherford | Futebol | EDViana | Não Apto\n",
      "emd61 | 2019-06-10 | Church Mcdowell | 31 | M | Yardville | Badminton | ACRroriz | Apto\n",
      "emd62 | 2020-09-01 | Craft Marie | 28 | F | Barstow | Atletismo | GDGoma | Apto\n",
      "emd63 | 2019-12-27 | Bailey Robbie | 23 | F | Blende | BTT | AmigosMontanha | Não Apto\n",
      "emd64 | 2019-08-03 | Edwards Chandra | 24 | M | Homestead | Futebol | ABCbraga | Não Apto\n",
      "emd65 | 2020-11-07 | Rojas Miller | 35 | M | Cherokee | Dança | ABCbraga | Não Apto\n",
      "emd66 | 2020-02-27 | Guerra Banks | 34 | M | Takilma | Ciclismo | SCBraga | Não Apto\n",
      "emd67 | 2019-11-24 | Shaw Carmella | 23 | M | Goldfield | BTT | SCBraga | Não Apto\n",
      "emd68 | 2019-09-09 | Sargent Tania | 27 | M | Allentown | Basquetebol | AVCfamalicão | Não Apto\n",
      "emd69 | 2019-01-13 | Graham Agnes | 31 | M | Hebron | Orientação | ABCbraga | Não Apto\n",
      "emd70 | 2019-05-23 | Melton Kristi | 25 | M | Mahtowa | Parapente | ABCbraga | Apto\n",
      "emd71 | 2020-09-26 | Crosby Marsh | 35 | F | Northridge | Orientação | AVCfamalicão | Apto\n",
      "emd72 | 2020-02-14 | Wagner Jewel | 30 | F | Levant | Atletismo | ACRroriz | Apto\n",
      "emd73 | 2019-04-29 | Pena Leticia | 23 | M | Osmond | Dança | SCBraga | Apto\n",
      "emd74 | 2020-06-11 | Conway Simmons | 29 | F | Greenock | Andebol | ACDRcrespos | Apto\n",
      "emd75 | 2021-01-11 | Colon Fields | 32 | F | Farmers | Parapente | Vitoria | Apto\n",
      "emd76 | 2020-04-28 | Jacobs Kristen | 21 | M | Bergoo | Karaté | AVCfamalicão | Não Apto\n",
      "emd77 | 2020-03-17 | Bender Mcdonald | 21 | M | Belleview | Badminton | AmigosMontanha | Apto\n",
      "emd78 | 2020-11-25 | Webb Emily | 34 | F | Fairmount | Basquetebol | ACDRcrespos | Apto\n",
      "emd79 | 2020-02-16 | Wooten Walker | 27 | M | Chamberino | Atletismo | GDGoma | Não Apto\n",
      "emd80 | 2019-11-20 | Walton Villarreal | 23 | F | Waterview | Andebol | AmigosMontanha | Não Apto\n",
      "emd81 | 2020-12-04 | Rivers Ashley | 27 | M | Joppa | Basquetebol | ACRroriz | Não Apto\n",
      "emd82 | 2019-10-15 | Price Mcknight | 24 | M | Ticonderoga | Parapente | Vitoria | Apto\n",
      "emd83 | 2019-10-13 | Blevins Donna | 22 | F | Gratton | Equitação | GDGoma | Não Apto\n",
      "emd84 | 2020-06-17 | Santos Cantrell | 22 | M | Belvoir | Dança | ACRroriz | Apto\n",
      "emd85 | 2019-09-07 | Jefferson Maldonado | 32 | M | Coalmont | Basquetebol | EDViana | Apto\n",
      "emd86 | 2019-04-16 | Kirk Reva | 28 | F | Rosine | Ciclismo | EDViana | Não Apto\n",
      "emd87 | 2019-07-17 | Vargas Deann | 30 | F | Blanford | Dança | ACDRcrespos | Não Apto\n",
      "emd88 | 2021-02-15 | Guy Nunez | 22 | F | Crown | Equitação | SCBraga | Apto\n",
      "emd89 | 2019-07-15 | Todd Sofia | 24 | F | Vicksburg | Futebol | ABCbraga | Apto\n",
      "emd90 | 2021-01-30 | Madden Fowler | 33 | M | Sattley | Andebol | AVCfamalicão | Não Apto\n",
      "emd91 | 2019-12-11 | Thomas Stone | 30 | M | Moquino | Triatlo | ACRroriz | Apto\n",
      "emd92 | 2021-01-13 | Gilliam Bowers | 35 | F | Chestnut | Badminton | AVCfamalicão | Não Apto\n",
      "emd93 | 2019-11-19 | Mcgee Goldie | 25 | F | Somerset | Ciclismo | AVCfamalicão | Apto\n",
      "emd94 | 2019-08-13 | French May | 33 | F | Kingstowne | Badminton | GDGoma | Não Apto\n",
      "emd95 | 2020-06-03 | Johnston Hester | 26 | M | Bannock | Badminton | ACRroriz | Não Apto\n",
      "emd96 | 2020-08-30 | Combs Kim | 35 | M | Chase | Atletismo | SCBraga | Não Apto\n",
      "emd97 | 2019-12-10 | Vaughan Elliott | 24 | F | Morgandale | Futebol | GDGoma | Apto\n",
      "emd98 | 2020-02-19 | Lowery Sherman | 33 | F | Lumberton | Basquetebol | AVCfamalicão | Apto\n",
      "emd99 | 2020-01-17 | Emerson Peters | 30 | F | Bonanza | Dança | AmigosMontanha | Não Apto\n",
      "emd0 | 2020-11-21 | Cox Osborne | 24 | M | Caroline | Patinagem | ACDRcrespos | Não Apto\n",
      "emd1 | 2019-06-06 | Kaufman Hurley | 33 | F | Ryderwood | Futebol | ACDRcrespos | Não Apto\n",
      "emd2 | 2020-11-27 | Valencia Josefa | 25 | F | Dalton | Triatlo | AmigosMontanha | Apto\n",
      "emd3 | 2020-07-21 | Wyatt Rhea | 32 | F | Greensburg | Karaté | AmigosMontanha | Não Apto\n",
      "emd4 | 2019-01-30 | Morris Jennifer | 26 | F | Oretta | Dança | AmigosMontanha | Não Apto\n",
      "emd5 | 2019-06-13 | Duffy Annabelle | 22 | F | Summerset | Triatlo | AmigosMontanha | Não Apto\n",
      "emd6 | 2020-12-28 | Acosta Kramer | 34 | F | Dotsero | BTT | ABCbraga | Não Apto\n",
      "emd7 | 2020-09-12 | Pollard Foley | 24 | F | Oceola | Basquetebol | ACRroriz | Apto\n",
      "emd8 | 2020-10-30 | Sandoval Ivy | 28 | F | Hebron | Esgrima | ACRroriz | Apto\n",
      "emd9 | 2020-01-04 | Farmer Lang | 31 | M | Farmington | BTT | ABCbraga | Apto\n",
      "emd10 | 2021-01-12 | Dejesus Frost | 33 | M | Glidden | Orientação | Vitoria | Apto\n",
      "emd11 | 2020-08-29 | Thomas Livingston | 28 | M | Coalmont | Triatlo | ACDRcrespos | Apto\n",
      "emd12 | 2020-06-15 | Steele Wagner | 33 | M | Hemlock | Orientação | EDViana | Apto\n",
      "emd13 | 2020-03-22 | Cooke Stephenson | 29 | F | Glenbrook | Equitação | SCBraga | Não Apto\n",
      "emd14 | 2019-06-01 | Talley Alberta | 32 | M | Canterwood | Orientação | ABCbraga | Apto\n",
      "emd15 | 2019-08-11 | Webb Liza | 34 | M | Linwood | Andebol | SCBraga | Apto\n",
      "emd16 | 2019-12-17 | Gamble Brooks | 27 | F | Belgreen | BTT | AVCfamalicão | Não Apto\n",
      "emd17 | 2020-10-29 | Davenport Blevins | 28 | M | Ladera | Ciclismo | Vitoria | Apto\n",
      "emd18 | 2020-02-16 | Stevens Shepard | 26 | F | Edinburg | Badminton | EDViana | Não Apto\n",
      "emd19 | 2019-09-17 | Tanner Nielsen | 28 | M | Roy | BTT | SCBraga | Não Apto\n",
      "emd20 | 2020-02-27 | Rosales Welch | 34 | M | Warren | Karaté | AmigosMontanha | Apto\n",
      "emd21 | 2020-03-14 | Collier Park | 30 | F | Como | Triatlo | SCBraga | Apto\n",
      "emd22 | 2019-10-21 | Weeks Louise | 30 | M | Crucible | Patinagem | SCBraga | Apto\n",
      "emd23 | 2020-07-08 | Williams Fox | 27 | M | Eastmont | Futebol | SCBraga | Não Apto\n",
      "emd24 | 2021-01-08 | Rhodes Woodard | 34 | F | Coleville | Karaté | ABCbraga | Apto\n",
      "emd25 | 2020-05-22 | Sargent Mclaughlin | 31 | M | Lowgap | Karaté | AmigosMontanha | Apto\n",
      "emd26 | 2019-11-22 | Nixon Nadine | 27 | F | Iola | Orientação | GDGoma | Não Apto\n",
      "emd27 | 2019-07-13 | Pierce Tamera | 23 | M | Rowe | Parapente | AmigosMontanha | Apto\n",
      "emd28 | 2020-01-03 | Dickson Isabella | 26 | M | Lodoga | Triatlo | ACRroriz | Não Apto\n",
      "emd29 | 2019-07-18 | Pittman Torres | 28 | F | Loma | Esgrima | ACRroriz | Não Apto\n",
      "emd30 | 2020-06-20 | Hart Jody | 34 | F | Falmouth | Badminton | ACRroriz | Não Apto\n",
      "emd31 | 2020-03-24 | Moran Francis | 30 | F | Englevale | Orientação | SCBraga | Não Apto\n",
      "emd32 | 2020-05-24 | May Anna | 28 | F | Dante | BTT | ACDRcrespos | Apto\n",
      "emd33 | 2020-05-04 | Kelly Valeria | 31 | F | Whitestone | Karaté | ACRroriz | Apto\n",
      "emd34 | 2020-09-04 | Barrera Stanton | 29 | F | Clinton | BTT | GDGoma | Não Apto\n",
      "emd35 | 2019-07-13 | Hensley Andrea | 26 | M | Lavalette | BTT | SCBraga | Apto\n",
      "emd36 | 2020-04-01 | Faulkner Mabel | 22 | M | Cucumber | Equitação | GDGoma | Não Apto\n",
      "emd37 | 2019-04-25 | Wade Nola | 28 | F | Axis | Karaté | EDViana | Apto\n",
      "emd38 | 2019-11-27 | Bowman Charles | 27 | F | Cumberland | BTT | AmigosMontanha | Não Apto\n",
      "emd39 | 2020-04-06 | Blanchard Karen | 32 | M | Shaft | Parapente | GDGoma | Não Apto\n",
      "emd40 | 2020-01-11 | Ingram Shelton | 32 | M | Aurora | Patinagem | ABCbraga | Não Apto\n",
      "emd41 | 2019-12-08 | Owens Gaines | 26 | M | Calverton | Futebol | ACDRcrespos | Não Apto\n",
      "emd42 | 2019-10-29 | Hopper Schmidt | 21 | M | Aguila | Basquetebol | SCBraga | Não Apto\n",
      "emd43 | 2020-10-18 | Barnes Joann | 31 | F | Babb | Basquetebol | Vitoria | Não Apto\n",
      "emd44 | 2019-05-24 | Tyler Kent | 22 | F | Venice | BTT | ACRroriz | Apto\n",
      "emd45 | 2020-05-11 | Jenkins Marsh | 23 | M | Bowmansville | Karaté | ACDRcrespos | Apto\n",
      "emd46 | 2019-08-12 | Fitzpatrick Gill | 25 | M | Gibbsville | Basquetebol | Vitoria | Apto\n",
      "emd47 | 2019-05-06 | Jarvis Staci | 34 | M | Darlington | Atletismo | EDViana | Apto\n",
      "emd48 | 2020-04-18 | Montoya Roberta | 29 | M | Lithium | Badminton | Vitoria | Não Apto\n",
      "emd49 | 2020-12-27 | Marsh Karla | 27 | F | Rodanthe | Patinagem | ACRroriz | Não Apto\n",
      "emd50 | 2019-01-28 | Mcdowell Virginia | 22 | F | Joes | Dança | SCBraga | Apto\n",
      "emd51 | 2020-09-26 | Sharpe Ana | 31 | F | Floris | Orientação | AmigosMontanha | Apto\n",
      "emd52 | 2019-03-25 | Zamora Newton | 23 | F | Watrous | Badminton | AVCfamalicão | Apto\n",
      "emd53 | 2021-01-22 | Mercado Vivian | 34 | F | Sena | Badminton | AVCfamalicão | Apto\n",
      "emd54 | 2019-11-08 | Whitaker Lula | 24 | M | Manila | Ciclismo | SCBraga | Não Apto\n",
      "emd55 | 2020-10-31 | Marks Lily | 29 | F | Sunwest | Badminton | ACDRcrespos | Apto\n",
      "emd56 | 2019-06-27 | Robles Watson | 27 | M | Thermal | Dança | SCBraga | Apto\n",
      "emd57 | 2019-11-05 | Bray Rojas | 29 | M | Cliffside | BTT | SCBraga | Apto\n",
      "emd58 | 2019-07-17 | Wright Burt | 31 | F | Yogaville | Dança | ACRroriz | Não Apto\n",
      "emd59 | 2020-03-28 | Hawkins Jennie | 34 | M | Dennard | BTT | ABCbraga | Apto\n",
      "emd60 | 2020-07-24 | Bean Shields | 27 | M | Dunlo | Ciclismo | Vitoria | Não Apto\n",
      "emd61 | 2020-11-11 | Reilly Mclean | 34 | F | Bentonville | Esgrima | ABCbraga | Não Apto\n",
      "emd62 | 2019-08-17 | Russo Hunter | 21 | F | Noxen | Orientação | AmigosMontanha | Não Apto\n",
      "emd63 | 2019-10-21 | Lee Latonya | 33 | M | Cascades | Futebol | ACRroriz | Apto\n",
      "emd64 | 2020-06-03 | Briggs Tami | 24 | M | Darrtown | Parapente | SCBraga | Não Apto\n",
      "emd65 | 2019-11-24 | Bishop Frank | 35 | F | Temperanceville | Triatlo | Vitoria | Não Apto\n",
      "emd66 | 2020-07-31 | Castro Tanisha | 35 | F | Kaka | Parapente | ACDRcrespos | Apto\n",
      "emd67 | 2020-03-23 | Moon Allen | 30 | F | Convent | Triatlo | ACDRcrespos | Apto\n",
      "emd68 | 2020-08-19 | Davis Pate | 28 | M | Topaz | Equitação | GDGoma | Apto\n",
      "emd69 | 2019-02-04 | Valentine Bishop | 31 | F | Graball | Orientação | AmigosMontanha | Apto\n",
      "emd70 | 2019-01-26 | Prince Bianca | 24 | M | Walland | Badminton | EDViana | Apto\n",
      "emd71 | 2019-12-15 | Medina Ratliff | 22 | M | Zarephath | Esgrima | GDGoma | Apto\n",
      "emd72 | 2020-07-19 | Bartlett Bernice | 28 | F | Bentley | Basquetebol | ABCbraga | Apto\n",
      "emd73 | 2019-04-08 | Maxwell Hodge | 35 | M | Yardville | Karaté | ACDRcrespos | Não Apto\n",
      "emd74 | 2019-11-14 | Miller Mathis | 27 | F | Brooktrails | Basquetebol | EDViana | Não Apto\n",
      "emd75 | 2020-02-16 | Randolph Foster | 27 | F | Sperryville | Basquetebol | SCBraga | Apto\n",
      "emd76 | 2020-02-25 | Maddox Tammy | 26 | F | Chesterfield | Orientação | Vitoria | Não Apto\n",
      "emd77 | 2020-03-17 | Daugherty Madge | 30 | F | Cartwright | Badminton | GDGoma | Não Apto\n",
      "emd78 | 2019-04-30 | Melendez Alyssa | 29 | F | Austinburg | Dança | ACRroriz | Apto\n",
      "emd79 | 2019-08-22 | Cantrell Latisha | 25 | F | Johnsonburg | Triatlo | ACRroriz | Apto\n",
      "emd80 | 2019-03-02 | Petty Anne | 33 | F | Summertown | Parapente | SCBraga | Apto\n",
      "emd81 | 2019-05-25 | Baird Faulkner | 22 | F | Bawcomville | Parapente | AVCfamalicão | Não Apto\n",
      "emd82 | 2020-11-12 | Anderson Banks | 28 | F | Lookingglass | Parapente | SCBraga | Não Apto\n",
      "emd83 | 2020-08-09 | Aguilar Frazier | 21 | F | Disautel | Esgrima | ACRroriz | Não Apto\n",
      "emd84 | 2019-09-26 | Rollins Combs | 24 | M | Dorneyville | Ciclismo | ACRroriz | Apto\n",
      "emd85 | 2020-07-14 | Murphy House | 28 | M | Rose | Ciclismo | SCBraga | Apto\n",
      "emd86 | 2020-12-01 | Beard Ashlee | 23 | F | Monument | Ciclismo | AVCfamalicão | Não Apto\n",
      "emd87 | 2020-10-22 | Schmidt Leon | 29 | F | Mooresburg | Triatlo | EDViana | Não Apto\n",
      "emd88 | 2021-01-20 | Lyons Anita | 35 | M | Homeworth | Parapente | SCBraga | Apto\n",
      "emd89 | 2020-12-03 | Wilder Herrera | 32 | F | Virgie | Orientação | SCBraga | Não Apto\n",
      "emd90 | 2020-04-14 | Thompson Lindsay | 21 | F | Topanga | Andebol | GDGoma | Apto\n",
      "emd91 | 2020-12-30 | Erickson Maynard | 23 | M | Harleigh | Atletismo | Vitoria | Não Apto\n",
      "emd92 | 2019-05-04 | York Flynn | 22 | F | Forbestown | Andebol | Vitoria | Apto\n",
      "emd93 | 2021-02-22 | Miles Larsen | 31 | M | Dawn | Dança | EDViana | Não Apto\n",
      "emd94 | 2020-07-08 | Mills Stacey | 22 | F | Rosedale | Esgrima | ACDRcrespos | Não Apto\n",
      "emd95 | 2019-06-09 | Perkins Stevenson | 28 | M | Hinsdale | Karaté | ACDRcrespos | Apto\n",
      "emd96 | 2019-05-03 | Barber Velasquez | 22 | M | Madaket | Equitação | AVCfamalicão | Apto\n",
      "emd97 | 2019-07-03 | Hahn Lawrence | 31 | F | Chase | Badminton | AVCfamalicão | Não Apto\n",
      "emd98 | 2020-03-15 | Pruitt Helen | 31 | F | Camino | Triatlo | AmigosMontanha | Não Apto\n",
      "emd99 | 2019-07-21 | Stark Wiley | 31 | F | Fairlee | Futebol | EDViana | Apto\n",
      "emd0 | 2020-05-31 | Noel Smith | 33 | F | Gibbsville | Andebol | GDGoma | Não Apto\n",
      "emd1 | 2020-08-09 | Schmidt Joseph | 25 | F | Heil | Esgrima | ACDRcrespos | Não Apto\n",
      "emd2 | 2020-03-17 | Schwartz Frank | 27 | F | Fairforest | Dança | GDGoma | Não Apto\n",
      "emd3 | 2020-09-28 | Osborne Patti | 29 | F | Camas | Dança | ACDRcrespos | Apto\n",
      "emd4 | 2019-05-29 | Hansen Frieda | 32 | F | Allamuchy | Ciclismo | GDGoma | Não Apto\n",
      "emd5 | 2019-01-12 | Mcneil Elena | 34 | F | Bedias | Orientação | Vitoria | Apto\n",
      "emd6 | 2019-03-02 | Morrison Dana | 35 | M | Bluffview | Atletismo | ACRroriz | Apto\n",
      "emd7 | 2020-11-03 | Scott Vera | 29 | M | Dante | Esgrima | AmigosMontanha | Apto\n",
      "emd8 | 2019-03-13 | Goodwin Kristen | 24 | M | Sterling | Esgrima | GDGoma | Apto\n",
      "emd9 | 2020-03-01 | Washington Haley | 33 | M | Bagtown | BTT | ACRroriz | Apto\n",
      "emd10 | 2020-11-13 | Workman Maryann | 26 | M | Goochland | Orientação | ACRroriz | Apto\n",
      "emd11 | 2020-11-24 | Richardson Alston | 27 | F | Edinburg | Triatlo | ACDRcrespos | Apto\n",
      "emd12 | 2020-03-30 | Sweeney Albert | 34 | M | Coloma | BTT | GDGoma | Apto\n",
      "emd13 | 2019-04-19 | Hurley Christina | 32 | M | Odessa | Patinagem | ACDRcrespos | Apto\n",
      "emd14 | 2020-02-27 | Leon Petra | 32 | M | Delshire | Equitação | EDViana | Não Apto\n",
      "emd15 | 2020-02-03 | Wooten Freda | 30 | F | Craig | Esgrima | GDGoma | Apto\n",
      "emd16 | 2019-04-05 | Craft Avis | 26 | F | Fairmount | Orientação | ACDRcrespos | Apto\n",
      "emd17 | 2019-09-20 | Le Meagan | 32 | M | Helen | Atletismo | ACDRcrespos | Apto\n",
      "emd18 | 2019-12-23 | Dyer Jessie | 30 | F | Saranap | Patinagem | Vitoria | Não Apto\n",
      "emd19 | 2019-07-09 | Patel Rhea | 23 | F | Goldfield | BTT | Vitoria | Não Apto\n",
      "emd20 | 2019-10-19 | Nelson Robles | 30 | F | Gorst | Futebol | AmigosMontanha | Não Apto\n",
      "emd21 | 2020-07-03 | Pugh Stewart | 24 | M | Lacomb | Andebol | SCBraga | Apto\n",
      "emd22 | 2019-01-23 | Conrad Bowers | 24 | M | Graniteville | Ciclismo | ABCbraga | Apto\n",
      "emd23 | 2020-03-31 | Navarro Burch | 22 | M | Bowden | Basquetebol | Vitoria | Apto\n",
      "emd24 | 2020-05-06 | Ochoa Pruitt | 31 | F | Wedgewood | Karaté | AmigosMontanha | Apto\n",
      "emd25 | 2019-02-02 | Garrison Jackie | 33 | M | Cedarville | Ciclismo | ACDRcrespos | Não Apto\n",
      "emd26 | 2019-07-21 | Evans Garrison | 33 | M | Brandermill | Futebol | ABCbraga | Apto\n",
      "emd27 | 2020-02-04 | Wynn Callie | 31 | M | Lorraine | Futebol | GDGoma | Apto\n",
      "emd28 | 2021-03-02 | Joseph Roberta | 29 | F | Weedville | Futebol | AmigosMontanha | Não Apto\n",
      "emd29 | 2019-05-23 | Estes Young | 23 | M | Alden | Ciclismo | EDViana | Apto\n",
      "emd30 | 2019-11-04 | Lyons Banks | 26 | F | Byrnedale | Karaté | AVCfamalicão | Apto\n",
      "emd31 | 2019-05-16 | Chan Lela | 22 | M | Cuylerville | Patinagem | SCBraga | Não Apto\n",
      "emd32 | 2019-10-12 | Hudson Harding | 23 | M | Sanders | Esgrima | AmigosMontanha | Não Apto\n",
      "emd33 | 2020-08-11 | Kelley Crawford | 32 | F | Loomis | Badminton | AmigosMontanha | Não Apto\n",
      "emd34 | 2019-06-05 | Rogers Celia | 28 | M | Windsor | Triatlo | AmigosMontanha | Não Apto\n",
      "emd35 | 2019-11-23 | Maddox Kathryn | 27 | M | Hannasville | Patinagem | ABCbraga | Apto\n",
      "emd36 | 2019-12-26 | Lancaster Boyle | 25 | M | Katonah | Triatlo | ACDRcrespos | Não Apto\n",
      "emd37 | 2019-09-04 | Nichols Randall | 26 | M | Zeba | Orientação | EDViana | Apto\n",
      "emd38 | 2019-06-06 | Kline Eve | 31 | F | Emerald | Badminton | ACDRcrespos | Não Apto\n",
      "emd39 | 2019-10-08 | Tran Foreman | 27 | F | Hollins | Equitação | ABCbraga | Não Apto\n",
      "emd40 | 2021-01-26 | Sampson Levine | 21 | F | Martinez | Basquetebol | Vitoria | Não Apto\n",
      "emd41 | 2019-05-19 | Carroll Jacobs | 27 | M | Ripley | Andebol | AVCfamalicão | Apto\n",
      "emd42 | 2020-09-29 | Hardin Price | 35 | M | Rodman | BTT | SCBraga | Apto\n",
      "emd43 | 2019-09-28 | Zimmerman Bell | 24 | M | Thomasville | Andebol | ABCbraga | Não Apto\n",
      "emd44 | 2020-08-31 | Lynch Lena | 26 | F | Makena | Badminton | AVCfamalicão | Apto\n",
      "emd45 | 2020-09-26 | Spencer Summer | 21 | F | Rosburg | Andebol | ACRroriz | Apto\n",
      "emd46 | 2019-08-04 | Peterson Brock | 31 | M | Glasgow | Futebol | AmigosMontanha | Apto\n",
      "emd47 | 2019-02-25 | Burks Hood | 26 | M | Nelson | Andebol | ACRroriz | Não Apto\n",
      "emd48 | 2020-11-08 | Dean Letitia | 29 | M | Berlin | Ciclismo | EDViana | Apto\n",
      "emd49 | 2019-05-24 | Ballard Tanya | 26 | F | Norwood | Andebol | ABCbraga | Apto\n",
      "emd50 | 2019-11-08 | Price Blackburn | 23 | F | Iola | Andebol | ACRroriz | Não Apto\n",
      "emd51 | 2020-04-01 | Woods Kate | 23 | F | Neibert | Atletismo | ACRroriz | Apto\n",
      "emd52 | 2020-01-24 | Bryan Justice | 34 | F | Thornport | Triatlo | ACDRcrespos | Apto\n",
      "emd53 | 2019-12-14 | Harrison Gilbert | 28 | M | Stagecoach | Basquetebol | ABCbraga | Apto\n",
      "emd54 | 2020-09-28 | Norris Christa | 32 | F | Levant | Basquetebol | ACRroriz | Apto\n",
      "emd55 | 2020-07-24 | Henry Dixon | 25 | M | Grazierville | Ciclismo | ABCbraga | Não Apto\n",
      "emd56 | 2020-04-10 | Ayala Silvia | 24 | F | Macdona | BTT | ABCbraga | Apto\n",
      "emd57 | 2020-11-15 | Summers Marci | 24 | M | Monument | Ciclismo | SCBraga | Não Apto\n",
      "emd58 | 2019-11-17 | Torres Powers | 31 | M | Bakersville | BTT | ACRroriz | Não Apto\n",
      "emd59 | 2019-11-05 | Curtis Curtis | 25 | M | Coalmont | Karaté | AmigosMontanha | Apto\n",
      "emd60 | 2019-12-11 | Greer Sheppard | 30 | F | Navarre | Atletismo | AVCfamalicão | Não Apto\n",
      "emd61 | 2020-10-08 | Lindsay Carmella | 26 | M | Alafaya | Futebol | ACDRcrespos | Apto\n",
      "emd62 | 2019-11-14 | Barker Geneva | 33 | M | Chamberino | Ciclismo | AmigosMontanha | Apto\n",
      "emd63 | 2020-03-24 | Kirk Cassie | 32 | M | Templeton | Karaté | ACDRcrespos | Apto\n",
      "emd64 | 2019-12-30 | Blair Le | 26 | F | Kersey | BTT | EDViana | Apto\n",
      "emd65 | 2020-03-24 | Williams Dolores | 32 | F | Marne | Dança | Vitoria | Apto\n",
      "emd66 | 2019-01-25 | Gould Madeleine | 28 | M | Osage | Karaté | ABCbraga | Não Apto\n",
      "emd67 | 2019-04-24 | Gilliam Farrell | 23 | M | Taycheedah | Andebol | AVCfamalicão | Apto\n",
      "emd68 | 2020-09-13 | Grant Evelyn | 25 | F | Callaghan | Esgrima | GDGoma | Apto\n",
      "emd69 | 2019-11-15 | Allen Decker | 26 | F | Gilgo | Badminton | AmigosMontanha | Apto\n",
      "emd70 | 2020-05-21 | Mcintosh Skinner | 22 | F | Lawrence | Triatlo | AmigosMontanha | Não Apto\n",
      "emd71 | 2021-02-06 | Byrd Stefanie | 34 | M | Bellfountain | Esgrima | EDViana | Não Apto\n",
      "emd72 | 2020-11-25 | Frost Blevins | 28 | F | Comptche | Dança | EDViana | Não Apto\n",
      "emd73 | 2019-09-20 | Lara Ayers | 22 | M | Layhill | Karaté | Vitoria | Não Apto\n",
      "emd74 | 2019-05-31 | Burke Trujillo | 21 | M | Gardiner | Triatlo | AVCfamalicão | Apto\n",
      "emd75 | 2020-01-05 | Reid Garner | 31 | M | Roeville | Karaté | ACRroriz | Apto\n",
      "emd76 | 2020-11-28 | Young Esmeralda | 32 | F | Delwood | Dança | ACDRcrespos | Apto\n",
      "emd77 | 2019-01-17 | Mcclure Kramer | 22 | F | Darbydale | Karaté | ABCbraga | Apto\n",
      "emd78 | 2019-11-16 | Stone Deanne | 26 | M | Coral | Equitação | AVCfamalicão | Apto\n",
      "emd79 | 2020-05-13 | Love Jacqueline | 23 | F | Idamay | Andebol | ACDRcrespos | Não Apto\n",
      "emd80 | 2019-09-02 | Mathis Holcomb | 22 | M | Boonville | Badminton | ACDRcrespos | Apto\n",
      "emd81 | 2019-08-03 | Flynn Amalia | 28 | M | Morriston | Badminton | ACDRcrespos | Apto\n",
      "emd82 | 2019-09-27 | Mcfadden Maria | 25 | F | Morgandale | Atletismo | Vitoria | Não Apto\n",
      "emd83 | 2019-10-30 | Kidd Landry | 33 | F | Grandview | Parapente | Vitoria | Apto\n",
      "emd84 | 2019-06-21 | Singleton Burton | 27 | M | Trucksville | Badminton | AmigosMontanha | Apto\n",
      "emd85 | 2020-04-28 | Yang Shaw | 33 | F | Needmore | Dança | SCBraga | Não Apto\n",
      "emd86 | 2019-11-23 | Robbins Pacheco | 21 | M | Joes | Parapente | EDViana | Não Apto\n",
      "emd87 | 2019-09-26 | Franco Deana | 32 | M | Robbins | Dança | EDViana | Não Apto\n",
      "emd88 | 2020-01-31 | Meyers Velazquez | 34 | F | Dennard | Ciclismo | ACDRcrespos | Apto\n",
      "emd89 | 2020-08-25 | Booker Roth | 33 | F | Talpa | Patinagem | ACDRcrespos | Não Apto\n",
      "emd90 | 2020-12-02 | Chang Chase | 27 | F | Beaverdale | Dança | Vitoria | Não Apto\n",
      "emd91 | 2019-04-02 | Bell Barr | 33 | F | Hillsboro | Parapente | AVCfamalicão | Não Apto\n",
      "emd92 | 2019-12-13 | Mccormick Daniel | 27 | F | Floriston | Badminton | EDViana | Apto\n",
      "emd93 | 2020-02-19 | Levine Lilian | 30 | F | Alamo | Parapente | EDViana | Apto\n",
      "emd94 | 2020-04-09 | Curry Cunningham | 24 | M | Elwood | Ciclismo | ABCbraga | Apto\n",
      "emd95 | 2020-11-24 | Chaney Dalton | 30 | F | Yukon | Triatlo | ACDRcrespos | Não Apto\n",
      "emd96 | 2020-03-14 | Poole Chrystal | 28 | M | Thynedale | BTT | ACDRcrespos | Apto\n",
      "emd97 | 2019-10-19 | Wise Joanne | 21 | F | Gerber | Triatlo | ABCbraga | Não Apto\n",
      "emd98 | 2021-02-15 | Gay Douglas | 29 | F | Lowgap | Atletismo | GDGoma | Apto\n",
      "emd99 | 2021-01-13 | Best Glenn | 27 | M | Graball | BTT | AVCfamalicão | Apto\n"
     ]
    }
   ],
   "source": [
    "def listarDataset(bd):\n",
    "    print(\"id  |  data  |  nome  |  idade  |  gênero  |  modalidade  |  clube  |  email  |  resultado\")\n",
    "    print(\"------------------------------------------------------------------------------------------\")\n",
    "    for emd in bd :\n",
    "        if emd[-1] :\n",
    "            res = \"Apto\"\n",
    "        else :\n",
    "            res = \"Não Apto\"\n",
    "            \n",
    "        print(emd[0] + \" | \" + emd[1] + \" | \" + emd[2] + \" | \" + emd[3] + \" | \" + emd[4] + \" | \" + emd[5] + \" | \" + emd[6] + \" | \" + emd[7] + \" | \" + res)\n",
    "    \n",
    "listarDataset(BD)"
   ]
  },
  {
   "cell_type": "markdown",
   "metadata": {},
   "source": [
    "#### Exercício 3 - Consultar um Registo"
   ]
  },
  {
   "cell_type": "code",
   "execution_count": 3,
   "metadata": {},
   "outputs": [
    {
     "name": "stdout",
     "output_type": "stream",
     "text": [
      "emd14 | 2019-05-05 | Strong Lester | 21 | M | Freetown | Patinagem | GDGoma | Não Apto\n",
      "emd14 | 2019-06-01 | Talley Alberta | 32 | M | Canterwood | Orientação | ABCbraga | Apto\n",
      "emd14 | 2020-02-27 | Leon Petra | 32 | M | Delshire | Equitação | EDViana | Não Apto\n"
     ]
    }
   ],
   "source": [
    "def consultarDataset(bd, id):\n",
    "    for emd in bd :\n",
    "        if emd[0] == id :\n",
    "            if emd[-1] :\n",
    "                res = \"Apto\"\n",
    "            else :\n",
    "                res = \"Não Apto\"\n",
    "                \n",
    "            print(emd[0] + \" | \" + emd[1] + \" | \" + emd[2] + \" | \" + emd[3] + \" | \" + emd[4] + \" | \" + emd[5] + \" | \" + emd[6] + \" | \" + emd[7] + \" | \" + res)\n",
    "            \n",
    "consultarDataset(BD, \"emd14\")"
   ]
  },
  {
   "cell_type": "markdown",
   "metadata": {},
   "source": [
    "#### Exercício 4 - Lista de Modalidades "
   ]
  },
  {
   "cell_type": "code",
   "execution_count": 4,
   "metadata": {},
   "outputs": [
    {
     "data": {
      "text/plain": [
       "['Andebol',\n",
       " 'Atletismo',\n",
       " 'BTT',\n",
       " 'Badminton',\n",
       " 'Basquetebol',\n",
       " 'Ciclismo',\n",
       " 'Dança',\n",
       " 'Equitação',\n",
       " 'Esgrima',\n",
       " 'Futebol',\n",
       " 'Karaté',\n",
       " 'Orientação',\n",
       " 'Parapente',\n",
       " 'Patinagem',\n",
       " 'Triatlo']"
      ]
     },
     "execution_count": 4,
     "metadata": {},
     "output_type": "execute_result"
    }
   ],
   "source": [
    "def modalidades(bd):\n",
    "    listaModalidades = []\n",
    "    for emd in bd :\n",
    "        if emd[6] not in listaModalidades :\n",
    "            listaModalidades.append(emd[6])\n",
    "    listaModalidades.sort()\n",
    "    return listaModalidades\n",
    "\n",
    "modalidades(BD)"
   ]
  },
  {
   "cell_type": "markdown",
   "metadata": {},
   "source": [
    "#### Exercício 5 - Distribuição por Modalidade"
   ]
  },
  {
   "cell_type": "code",
   "execution_count": 5,
   "metadata": {},
   "outputs": [
    {
     "data": {
      "text/plain": [
       "{'BTT': 29,\n",
       " 'Ciclismo': 23,\n",
       " 'Basquetebol': 24,\n",
       " 'Andebol': 21,\n",
       " 'Futebol': 21,\n",
       " 'Atletismo': 16,\n",
       " 'Equitação': 13,\n",
       " 'Patinagem': 14,\n",
       " 'Orientação': 17,\n",
       " 'Triatlo': 23,\n",
       " 'Dança': 22,\n",
       " 'Karaté': 21,\n",
       " 'Badminton': 24,\n",
       " 'Esgrima': 15,\n",
       " 'Parapente': 17}"
      ]
     },
     "execution_count": 5,
     "metadata": {},
     "output_type": "execute_result"
    }
   ],
   "source": [
    "def distribPorModalidade(bd):\n",
    "    distribMod = {}\n",
    "    for emd in bd :\n",
    "        if emd[6] in distribMod.keys() :\n",
    "            distribMod[emd[6]] = distribMod[emd[6]] + 1\n",
    "        else :\n",
    "            distribMod[emd[6]] = 1\n",
    "    return distribMod\n",
    "\n",
    "distribPorModalidade(BD)"
   ]
  },
  {
   "cell_type": "markdown",
   "metadata": {},
   "source": [
    "#### Exercício 6 - Distribuição por Clubes"
   ]
  },
  {
   "cell_type": "code",
   "execution_count": 6,
   "metadata": {},
   "outputs": [
    {
     "data": {
      "text/plain": [
       "{'ACRroriz': 37,\n",
       " 'ACDRcrespos': 41,\n",
       " 'Vitoria': 32,\n",
       " 'AVCfamalicão': 31,\n",
       " 'AmigosMontanha': 35,\n",
       " 'EDViana': 34,\n",
       " 'GDGoma': 26,\n",
       " 'SCBraga': 34,\n",
       " 'ABCbraga': 30}"
      ]
     },
     "execution_count": 6,
     "metadata": {},
     "output_type": "execute_result"
    }
   ],
   "source": [
    "def distribPorClube(bd):\n",
    "    distribClube = {}\n",
    "    for emd in bd :\n",
    "        if emd[7] in distribClube.keys() :\n",
    "            distribClube[emd[7]] = distribClube[emd[7]] + 1\n",
    "        else :\n",
    "            distribClube[emd[7]] = 1\n",
    "    return distribClube\n",
    "\n",
    "distribPorClube(BD)"
   ]
  },
  {
   "cell_type": "markdown",
   "metadata": {},
   "source": [
    "#### Exercício 7 - Distribuição por Ano"
   ]
  },
  {
   "cell_type": "code",
   "execution_count": 7,
   "metadata": {},
   "outputs": [
    {
     "data": {
      "text/plain": [
       "{'2020': 138, '2019': 145, '2021': 17}"
      ]
     },
     "execution_count": 7,
     "metadata": {},
     "output_type": "execute_result"
    }
   ],
   "source": [
    "def distribPorAno(bd):\n",
    "    distribAno = {}\n",
    "    for emd in bd :\n",
    "        ano = emd[1][0:4]\n",
    "        if ano in distribAno.keys() :\n",
    "            distribAno[ano] = distribAno[ano] + 1\n",
    "        else :\n",
    "            distribAno[ano] = 1\n",
    "    return distribAno\n",
    "\n",
    "distribPorAno(BD)"
   ]
  },
  {
   "cell_type": "markdown",
   "metadata": {},
   "source": [
    "#### Exercício 8 - Distribuição Parametrizada"
   ]
  },
  {
   "cell_type": "code",
   "execution_count": 8,
   "metadata": {},
   "outputs": [
    {
     "data": {
      "text/plain": [
       "{'F': 159, 'M': 141}"
      ]
     },
     "execution_count": 8,
     "metadata": {},
     "output_type": "execute_result"
    }
   ],
   "source": [
    "def distrib(bd, index):\n",
    "    distrib = {}\n",
    "    for emd in bd :\n",
    "        if emd[index] in distrib.keys() :\n",
    "            distrib[emd[index]] = distrib[emd[index]] + 1\n",
    "        else :\n",
    "            distrib[emd[index]] = 1\n",
    "    return distrib\n",
    "\n",
    "distrib(BD, 4)"
   ]
  },
  {
   "cell_type": "markdown",
   "metadata": {},
   "source": [
    "### Gráficos"
   ]
  },
  {
   "cell_type": "code",
   "execution_count": 9,
   "metadata": {},
   "outputs": [],
   "source": [
    "import matplotlib.pyplot as plt"
   ]
  },
  {
   "cell_type": "markdown",
   "metadata": {},
   "source": [
    "#### Exercício 9 - Gráfico da Distribuição por Modalidade"
   ]
  },
  {
   "cell_type": "code",
   "execution_count": 10,
   "metadata": {},
   "outputs": [
    {
     "data": {
      "image/png": "[encoded data removed]",
      "text/plain": [
       "<Figure size 432x288 with 1 Axes>"
      ]
     },
     "metadata": {
      "needs_background": "light"
     },
     "output_type": "display_data"
    }
   ],
   "source": [
    "def plotDistribPorModalidade(bd):\n",
    "    BD = distribPorModalidade(bd)\n",
    "    \n",
    "    listaModalidades = []\n",
    "    for emd in bd :\n",
    "        if emd[6] not in listaModalidades :\n",
    "            listaModalidades.append(emd[6])\n",
    "            \n",
    "    x = [n for n in range(len(listaModalidades))]\n",
    "    plt.xlabel('Modalidades')\n",
    "    plt.xticks(rotation=90)\n",
    "    \n",
    "    y = []\n",
    "    for n in x :\n",
    "        y.append(BD[listaModalidades[n]])\n",
    "    plt.ylabel('Quantidade de EMDs')\n",
    "    \n",
    "    plt.title('Distribuição por Modalidades')\n",
    "    plt.bar(x, y, tick_label=listaModalidades, width=0.8, color=['red','blue'])\n",
    "    \n",
    "plotDistribPorModalidade(BD)"
   ]
  },
  {
   "cell_type": "markdown",
   "metadata": {},
   "source": [
    "#### Exercício 10 - Gráfico da Distribuição Parametrizada"
   ]
  },
  {
   "cell_type": "code",
   "execution_count": 11,
   "metadata": {
    "scrolled": false
   },
   "outputs": [
    {
     "data": {
      "image/png": "[encoded data removed]",
      "text/plain": [
       "<Figure size 432x288 with 1 Axes>"
      ]
     },
     "metadata": {
      "needs_background": "light"
     },
     "output_type": "display_data"
    }
   ],
   "source": [
    "def plotDistrib(bd, index):\n",
    "    BD = distrib(bd, index)\n",
    "    \n",
    "    lista = []\n",
    "    for emd in bd :\n",
    "        if emd[index] not in lista :\n",
    "            lista.append(emd[index])\n",
    "    \n",
    "    x = [n for n in range(len(lista))]\n",
    "    plt.xlabel('Index')\n",
    "    \n",
    "    y = []\n",
    "    for n in x :\n",
    "        y.append(BD[lista[n]])\n",
    "    plt.ylabel('Quantidade de EMDs')\n",
    "    \n",
    "    plt.title('Distribuição')\n",
    "    plt.bar(x, y, tick_label=lista, width=0.8, color=['red','blue'])\n",
    "    \n",
    "plotDistrib(BD, 3)"
   ]
  },
  {
   "cell_type": "markdown",
   "metadata": {},
   "source": [
    "### Interface GUI - App: Processamento de Datasets"
   ]
  },
  {
   "cell_type": "code",
   "execution_count": null,
   "metadata": {},
   "outputs": [],
   "source": [
    "import PySimpleGUI as sg\n",
    "\n",
    "def separador():\n",
    "    print(\"-------------------------------------------------------------------------------------------------------\")\n",
    "\n",
    "interfacePrincipal = [\n",
    "    [sg.InputText(\"Introduza um dataset: \", font=(\"Arial\", 20), key=\"_dataset\"), sg.Button(\"Leitura\"), sg.Button(\"Listagem\")], \n",
    "    [sg.InputText(\"Introduza id do EMD que pretende consultar: \", font=(\"Arial\", 20), key=\"_id\"), sg.Button(\"Consultar Registo\")], \n",
    "    [sg.Button(\"Distribuição por Modalidade\"), sg.Button(\"Distribuição por Clube\"), sg.Button(\"Distribuição por Ano\")],\n",
    "    [sg.InputText(\"Introduza o index do parâmetro: \", font=(\"Arial\", 20), key=\"_index\"), sg.Button(\"Distribuir\"), sg.Button(\"Gerar Gráfico\")],\n",
    "    [sg.Output(size=(60,20))]\n",
    "]\n",
    "\n",
    "window = sg.Window(title=\"Processamento de Datasets\", font=(\"Helvetica\", 24), default_element_size=(40,20)).Layout(interfacePrincipal)\n",
    "\n",
    "stop = False\n",
    "while not stop :\n",
    "    event, values = window.read()\n",
    "    if event == sg.WIN_CLOSED :\n",
    "        stop = True\n",
    "        \n",
    "    elif event == \"Leitura\" :\n",
    "        BD = lerDataset(values[\"_dataset\"])\n",
    "        \n",
    "    elif event == \"Listagem\" :\n",
    "        print(\"Listagem do Dataset: \")\n",
    "        listarDataset(BD)\n",
    "        separador()\n",
    "                \n",
    "    elif event == \"Consultar Registo\" :\n",
    "        print(\"Consulta do registo \" + values[\"_id\"] + \": \")\n",
    "        consultarDataset(BD, values[\"_id\"])\n",
    "        separador()\n",
    "        \n",
    "    elif event == \"Distribuição por Modalidade\" :\n",
    "        print(\"Distribuição por Modalidade: \")\n",
    "        print(distribPorModalidade(BD))\n",
    "        separador()\n",
    "        \n",
    "    elif event == \"Distribuição por Clube\" :\n",
    "        print(\"Distribuição por Clube: \")\n",
    "        print(distribPorClube(BD))\n",
    "        separador()\n",
    "        \n",
    "    elif event == \"Distribuição por Ano\" :\n",
    "        print(\"Distribuição por Ano\")\n",
    "        print(distribPorAno(BD))\n",
    "        separador()\n",
    "        \n",
    "    elif event == \"Distribuir\" :\n",
    "        index = int(values[\"_index\"])\n",
    "        print(\"Distribuição por Index \" + str(index) + \":\")\n",
    "        print(distrib(BD, index))\n",
    "        separador()\n",
    "        \n",
    "    elif event == \"Gerar Gráfico\" :\n",
    "        interfaceGrafico = [\n",
    "            [sg.Text()]\n",
    "        ]\n",
    "        index = int(values[\"_index\"])\n",
    "        plotDistrib(BD, index)\n",
    "    \n",
    "    \n",
    "    else :\n",
    "        print(event + \":\\n\")\n",
    "        print(values)\n",
    "\n",
    "window.close()"
   ]
  }
 ],
 "metadata": {
  "kernelspec": {
   "display_name": "Python 3",
   "language": "python",
   "name": "python3"
  },
  "language_info": {
   "codemirror_mode": {
    "name": "ipython",
    "version": 3
   },
   "file_extension": ".py",
   "mimetype": "text/x-python",
   "name": "python",
   "nbconvert_exporter": "python",
   "pygments_lexer": "ipython3",
   "version": "3.8.3"
  }
 },
 "nbformat": 4,
 "nbformat_minor": 4
}
